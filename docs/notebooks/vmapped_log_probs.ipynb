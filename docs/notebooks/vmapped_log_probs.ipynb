{
 "cells": [
  {
   "cell_type": "markdown",
   "metadata": {
    "id": "6umP1IKf4Dg6"
   },
   "source": [
    "# Autobatching for Bayesian inference\n",
    "\n",
    "<!--* freshness: { reviewed: '2024-04-08' } *-->\n",
    "\n",
    "[![Open in Colab](https://colab.research.google.com/assets/colab-badge.svg)](https://colab.research.google.com/github/jax-ml/jax/blob/main/docs/notebooks/vmapped_log_probs.ipynb) [![Open in Kaggle](https://kaggle.com/static/images/open-in-kaggle.svg)](https://kaggle.com/kernels/welcome?src=https://github.com/jax-ml/jax/blob/main/docs/notebooks/vmapped_log_probs.ipynb)\n",
    "\n",
    "This notebook demonstrates a simple Bayesian inference example where autobatching makes user code easier to write, easier to read, and less likely to include bugs.\n",
    "\n",
    "Inspired by a notebook by @davmre."
   ]
  },
  {
   "cell_type": "code",
   "execution_count": 0,
   "metadata": {
    "id": "8RZDkfbV3zdR"
   },
   "outputs": [],
   "source": [
    "import matplotlib.pyplot as plt\n",
    "\n",
    "import jax\n",
    "\n",
    "import jax.numpy as jnp\n",
    "import jax.scipy as jsp\n",
    "from jax import random\n",
    "\n",
    "import numpy as np\n",
    "import scipy as sp"
   ]
  },
  {
   "cell_type": "markdown",
   "metadata": {
    "id": "p2VcZS1d34C6"
   },
   "source": [
    "## Generate a fake binary classification dataset"
   ]
  },
  {
   "cell_type": "code",
   "execution_count": 0,
   "metadata": {
    "id": "pq41hMvn4c_i"
   },
   "outputs": [],
   "source": [
    "np.random.seed(10009)\n",
    "\n",
    "num_features = 10\n",
    "num_points = 100\n",
    "\n",
    "true_beta = np.random.randn(num_features).astype(jnp.float32)\n",
    "all_x = np.random.randn(num_points, num_features).astype(jnp.float32)\n",
    "y = (np.random.rand(num_points) < sp.special.expit(all_x.dot(true_beta))).astype(jnp.int32)"
   ]
  },
  {
   "cell_type": "code",
   "execution_count": 11,
   "metadata": {
    "id": "O0nVumAw7IlT",
    "outputId": "751a3290-a81b-4538-9183-16cd685fbaf9"
   },
   "outputs": [
    {
     "data": {
      "text/plain": [
       "array([0, 0, 0, 1, 1, 1, 0, 1, 1, 1, 1, 1, 0, 1, 0, 0, 0, 1, 1, 1, 1, 0,\n",
       "       1, 0, 0, 0, 0, 0, 1, 0, 1, 0, 0, 0, 1, 0, 0, 0, 1, 0, 0, 0, 0, 0,\n",
       "       1, 1, 0, 1, 0, 0, 0, 1, 1, 0, 0, 1, 0, 0, 0, 0, 0, 1, 1, 0, 0, 0,\n",
       "       0, 1, 1, 0, 0, 0, 1, 1, 1, 1, 1, 1, 0, 0, 0, 1, 1, 0, 1, 0, 1, 1,\n",
       "       1, 0, 1, 0, 0, 0, 0, 1, 0, 1, 0, 0], dtype=int32)"
      ]
     },
     "execution_count": 11,
     "metadata": {
      "tags": []
     },
     "output_type": "execute_result"
    }
   ],
   "source": [
    "y"
   ]
  },
  {
   "cell_type": "markdown",
   "metadata": {
    "id": "DZRVvhpn5aB1"
   },
   "source": [
    "## Write the log-joint function for the model\n",
    "\n",
    "We'll write a non-batched version, a manually batched version, and an autobatched version."
   ]
  },
  {
   "cell_type": "markdown",
   "metadata": {
    "id": "C_mDXInL7nsP"
   },
   "source": [
    "### Non-batched"
   ]
  },
  {
   "cell_type": "code",
   "execution_count": 0,
   "metadata": {
    "id": "ZHyL2sJh5ajG"
   },
   "outputs": [],
   "source": [
    "def log_joint(beta):\n",
    "    result = 0.\n",
    "    # Note that no `axis` parameter is provided to `jnp.sum`.\n",
    "    result = result + jnp.sum(jsp.stats.norm.logpdf(beta, loc=0., scale=1.))\n",
    "    result = result + jnp.sum(-jnp.log(1 + jnp.exp(-(2*y-1) * jnp.dot(all_x, beta))))\n",
    "    return result"
   ]
  },
  {
   "cell_type": "code",
   "execution_count": 13,
   "metadata": {
    "id": "e51qW0ro6J7C",
    "outputId": "2ec6bbbd-12ee-45bc-af76-5111c53e4d5a"
   },
   "outputs": [
    {
     "data": {
      "text/plain": [
       "Array(-213.23558, dtype=float32)"
      ]
     },
     "execution_count": 13,
     "metadata": {
      "tags": []
     },
     "output_type": "execute_result"
    }
   ],
   "source": [
    "log_joint(np.random.randn(num_features))"
   ]
  },
  {
   "cell_type": "code",
   "execution_count": 14,
   "metadata": {
    "id": "fglQXK1Y6wnm",
    "outputId": "2b934336-08ad-4776-9a58-aa575bf601eb"
   },
   "outputs": [
    {
     "name": "stdout",
     "output_type": "stream",
     "text": [
      "Caught expected exception Incompatible shapes for broadcasting: ((100, 10), (1, 100))\n"
     ]
    }
   ],
   "source": [
    "# This doesn't work, because we didn't write `log_prob()` to handle batching.\n",
    "try:\n",
    "  batch_size = 10\n",
    "  batched_test_beta = np.random.randn(batch_size, num_features)\n",
    "\n",
    "  log_joint(np.random.randn(batch_size, num_features))\n",
    "except ValueError as e:\n",
    "  print(\"Caught expected exception \" + str(e))"
   ]
  },
  {
   "cell_type": "markdown",
   "metadata": {
    "id": "_lQ8MnKq7sLU"
   },
   "source": [
    "### Manually batched"
   ]
  },
  {
   "cell_type": "code",
   "execution_count": 0,
   "metadata": {
    "id": "2g5-4bQE7gRA"
   },
   "outputs": [],
   "source": [
    "def batched_log_joint(beta):\n",
    "    result = 0.\n",
    "    # Here (and below) `sum` needs an `axis` parameter. At best, forgetting to set axis\n",
    "    # or setting it incorrectly yields an error; at worst, it silently changes the\n",
    "    # semantics of the model.\n",
    "    result = result + jnp.sum(jsp.stats.norm.logpdf(beta, loc=0., scale=1.),\n",
    "                           axis=-1)\n",
    "    # Note the multiple transposes. Getting this right is not rocket science,\n",
    "    # but it's also not totally mindless. (I didn't get it right on the first\n",
    "    # try.)\n",
    "    result = result + jnp.sum(-jnp.log(1 + jnp.exp(-(2*y-1) * jnp.dot(all_x, beta.T).T)),\n",
    "                           axis=-1)\n",
    "    return result"
   ]
  },
  {
   "cell_type": "code",
   "execution_count": 16,
   "metadata": {
    "id": "KdDMr-Gy85CO",
    "outputId": "db746654-68e9-43b8-ce3b-6e5682e22eb5"
   },
   "outputs": [
    {
     "data": {
      "text/plain": [
       "Array([-147.84033203, -207.02204895, -109.26074982, -243.80830383,\n",
       "       -163.02911377, -143.84848022, -160.28771973, -113.77169037,\n",
       "       -126.60544586, -190.81988525], dtype=float32)"
      ]
     },
     "execution_count": 16,
     "metadata": {
      "tags": []
     },
     "output_type": "execute_result"
    }
   ],
   "source": [
    "batch_size = 10\n",
    "batched_test_beta = np.random.randn(batch_size, num_features)\n",
    "\n",
    "batched_log_joint(batched_test_beta)"
   ]
  },
  {
   "cell_type": "markdown",
   "metadata": {
    "id": "-uuGlHQ_85kd"
   },
   "source": [
    "### Autobatched with vmap\n",
    "\n",
    "It just works."
   ]
  },
  {
   "cell_type": "code",
   "execution_count": 17,
   "metadata": {
    "id": "SU20bouH8-Za",
    "outputId": "ee450298-982f-4b9a-bed9-a6f9b8f63d92"
   },
   "outputs": [
    {
     "data": {
      "text/plain": [
       "Array([-147.84033203, -207.02204895, -109.26074982, -243.80830383,\n",
       "       -163.02911377, -143.84848022, -160.28771973, -113.77169037,\n",
       "       -126.60544586, -190.81988525], dtype=float32)"
      ]
     },
     "execution_count": 17,
     "metadata": {
      "tags": []
     },
     "output_type": "execute_result"
    }
   ],
   "source": [
    "vmap_batched_log_joint = jax.vmap(log_joint)\n",
    "vmap_batched_log_joint(batched_test_beta)"
   ]
  },
  {
   "cell_type": "markdown",
   "metadata": {
    "id": "L1KNBo9y_yZJ"
   },
   "source": [
    "## Self-contained variational inference example\n",
    "\n",
    "A little code is copied from above."
   ]
  },
  {
   "cell_type": "markdown",
   "metadata": {
    "id": "lQTPaaQMJh8Y"
   },
   "source": [
    "### Set up the (batched) log-joint function"
   ]
  },
  {
   "cell_type": "code",
   "execution_count": 0,
   "metadata": {
    "id": "AITXbaofA3Pm"
   },
   "outputs": [],
   "source": [
    "@jax.jit\n",
    "def log_joint(beta):\n",
    "    result = 0.\n",
    "    # Note that no `axis` parameter is provided to `jnp.sum`.\n",
    "    result = result + jnp.sum(jsp.stats.norm.logpdf(beta, loc=0., scale=10.))\n",
    "    result = result + jnp.sum(-jnp.log(1 + jnp.exp(-(2*y-1) * jnp.dot(all_x, beta))))\n",
    "    return result\n",
    "\n",
    "batched_log_joint = jax.jit(jax.vmap(log_joint))"
   ]
  },
  {
   "cell_type": "markdown",
   "metadata": {
    "id": "UmmFMQ8LJk6a"
   },
   "source": [
    "### Define the ELBO and its gradient"
   ]
  },
  {
   "cell_type": "code",
   "execution_count": 0,
   "metadata": {
    "id": "MJtnskL6BKwV"
   },
   "outputs": [],
   "source": [
    "def elbo(beta_loc, beta_log_scale, epsilon):\n",
    "    beta_sample = beta_loc + jnp.exp(beta_log_scale) * epsilon\n",
    "    return jnp.mean(batched_log_joint(beta_sample), 0) + jnp.sum(beta_log_scale - 0.5 * np.log(2*np.pi))\n",
    "\n",
    "elbo = jax.jit(elbo)\n",
    "elbo_val_and_grad = jax.jit(jax.value_and_grad(elbo, argnums=(0, 1)))"
   ]
  },
  {
   "cell_type": "markdown",
   "metadata": {
    "id": "oQC7xKYnJrp5"
   },
   "source": [
    "### Optimize the ELBO using SGD"
   ]
  },
  {
   "cell_type": "code",
   "execution_count": 23,
   "metadata": {
    "id": "9JrD5nNgH715",
    "outputId": "80bf62d8-821a-45c4-885c-528b2e449e97"
   },
   "outputs": [
    {
     "name": "stdout",
     "output_type": "stream",
     "text": [
      "0\t-180.85391235351562\n",
      "10\t-113.06047058105469\n",
      "20\t-102.73725891113281\n",
      "30\t-99.78732299804688\n",
      "40\t-98.90898895263672\n",
      "50\t-98.29743957519531\n",
      "60\t-98.18630981445312\n",
      "70\t-97.5797348022461\n",
      "80\t-97.28599548339844\n",
      "90\t-97.46998596191406\n",
      "100\t-97.47715759277344\n",
      "110\t-97.5806884765625\n",
      "120\t-97.49433898925781\n",
      "130\t-97.50270080566406\n",
      "140\t-96.86398315429688\n",
      "150\t-97.44197082519531\n",
      "160\t-97.06938934326172\n",
      "170\t-96.84031677246094\n",
      "180\t-97.21339416503906\n",
      "190\t-97.56500244140625\n",
      "200\t-97.26395416259766\n",
      "210\t-97.11984252929688\n",
      "220\t-97.39595794677734\n",
      "230\t-97.16830444335938\n",
      "240\t-97.11840057373047\n",
      "250\t-97.24346160888672\n",
      "260\t-97.29786682128906\n",
      "270\t-96.69286346435547\n",
      "280\t-96.96443176269531\n",
      "290\t-97.3005599975586\n",
      "300\t-96.63589477539062\n",
      "310\t-97.0351791381836\n",
      "320\t-97.52906799316406\n",
      "330\t-97.2880630493164\n",
      "340\t-97.07324981689453\n",
      "350\t-97.15620422363281\n",
      "360\t-97.25880432128906\n",
      "370\t-97.19515228271484\n",
      "380\t-97.13092803955078\n",
      "390\t-97.11730194091797\n",
      "400\t-96.93872833251953\n",
      "410\t-97.26676940917969\n",
      "420\t-97.35321044921875\n",
      "430\t-97.2100830078125\n",
      "440\t-97.28434753417969\n",
      "450\t-97.16310119628906\n",
      "460\t-97.26123809814453\n",
      "470\t-97.21342468261719\n",
      "480\t-97.23995971679688\n",
      "490\t-97.1491470336914\n",
      "500\t-97.23527526855469\n",
      "510\t-96.93415832519531\n",
      "520\t-97.21208190917969\n",
      "530\t-96.82577514648438\n",
      "540\t-97.01283264160156\n",
      "550\t-96.9417724609375\n",
      "560\t-97.16526794433594\n",
      "570\t-97.29165649414062\n",
      "580\t-97.42940521240234\n",
      "590\t-97.24371337890625\n",
      "600\t-97.15219116210938\n",
      "610\t-97.4984359741211\n",
      "620\t-96.99072265625\n",
      "630\t-96.88955688476562\n",
      "640\t-96.89968872070312\n",
      "650\t-97.13794708251953\n",
      "660\t-97.43705749511719\n",
      "670\t-96.99232482910156\n",
      "680\t-97.15624237060547\n",
      "690\t-97.1869125366211\n",
      "700\t-97.1115951538086\n",
      "710\t-97.78104400634766\n",
      "720\t-97.23224639892578\n",
      "730\t-97.16204071044922\n",
      "740\t-96.99580383300781\n",
      "750\t-96.66720581054688\n",
      "760\t-97.16795349121094\n",
      "770\t-97.51432037353516\n",
      "780\t-97.28899383544922\n",
      "790\t-96.91226959228516\n",
      "800\t-97.17100524902344\n",
      "810\t-97.29046630859375\n",
      "820\t-97.16242980957031\n",
      "830\t-97.19109344482422\n",
      "840\t-97.5638427734375\n",
      "850\t-97.00192260742188\n",
      "860\t-96.86555480957031\n",
      "870\t-96.76338195800781\n",
      "880\t-96.83660125732422\n",
      "890\t-97.121826171875\n",
      "900\t-97.09553527832031\n",
      "910\t-97.06825256347656\n",
      "920\t-97.1194839477539\n",
      "930\t-96.87931823730469\n",
      "940\t-97.45622253417969\n",
      "950\t-96.69277954101562\n",
      "960\t-97.29376983642578\n",
      "970\t-97.33528137207031\n",
      "980\t-97.349609375\n",
      "990\t-97.09675598144531\n"
     ]
    }
   ],
   "source": [
    "def normal_sample(key, shape):\n",
    "    \"\"\"Convenience function for quasi-stateful RNG.\"\"\"\n",
    "    new_key, sub_key = random.split(key)\n",
    "    return new_key, random.normal(sub_key, shape)\n",
    "\n",
    "normal_sample = jax.jit(normal_sample, static_argnums=(1,))\n",
    "\n",
    "key = random.key(10003)\n",
    "\n",
    "beta_loc = jnp.zeros(num_features, jnp.float32)\n",
    "beta_log_scale = jnp.zeros(num_features, jnp.float32)\n",
    "\n",
    "step_size = 0.01\n",
    "batch_size = 128\n",
    "epsilon_shape = (batch_size, num_features)\n",
    "for i in range(1000):\n",
    "    key, epsilon = normal_sample(key, epsilon_shape)\n",
    "    elbo_val, (beta_loc_grad, beta_log_scale_grad) = elbo_val_and_grad(\n",
    "        beta_loc, beta_log_scale, epsilon)\n",
    "    beta_loc += step_size * beta_loc_grad\n",
    "    beta_log_scale += step_size * beta_log_scale_grad\n",
    "    if i % 10 == 0:\n",
    "        print('{}\\t{}'.format(i, elbo_val))"
   ]
  },
  {
   "cell_type": "markdown",
   "metadata": {
    "id": "b3ZAe5fJJ2KM"
   },
   "source": [
    "### Display the results\n",
    "\n",
    "Coverage isn't quite as good as we might like, but it's not bad, and nobody said variational inference was exact."
   ]
  },
  {
   "cell_type": "code",
   "execution_count": 24,
   "metadata": {
    "id": "zt1NBLoVHtOG",
    "outputId": "fb159795-e6e7-497c-e501-9933ec761af4"
   },
   "outputs": [
    {
     "data": {
      "text/plain": [
       "<matplotlib.legend.Legend at 0x7f90aed84860>"
      ]
     },
     "execution_count": 24,
     "metadata": {
      "tags": []
     },
     "output_type": "execute_result"
    },
    {
     "data": {
      "image/png": "[encoded data removed]",
      "text/plain": [
       "<Figure size 504x504 with 1 Axes>"
      ]
     },
     "metadata": {
      "tags": []
     },
     "output_type": "display_data"
    }
   ],
   "source": [
    "plt.figure(figsize=(7, 7))\n",
    "plt.plot(true_beta, beta_loc, '.', label='Approximated Posterior Means')\n",
    "plt.plot(true_beta, beta_loc + 2*jnp.exp(beta_log_scale), 'r.', label=r'Approximated Posterior $2\\sigma$ Error Bars')\n",
    "plt.plot(true_beta, beta_loc - 2*jnp.exp(beta_log_scale), 'r.')\n",
    "plot_scale = 3\n",
    "plt.plot([-plot_scale, plot_scale], [-plot_scale, plot_scale], 'k')\n",
    "plt.xlabel('True beta')\n",
    "plt.ylabel('Estimated beta')\n",
    "plt.legend(loc='best')"
   ]
  }
 ],
 "metadata": {
  "colab": {
   "collapsed_sections": [],
   "name": "vmapped_log_probs.ipynb",
   "provenance": []
  },
  "jupytext": {
   "formats": "ipynb,md:myst"
  },
  "kernelspec": {
   "display_name": "Python 3",
   "language": "python",
   "name": "python3"
  },
  "language_info": {
   "codemirror_mode": {
    "name": "ipython",
    "version": 3
   },
   "file_extension": ".py",
   "mimetype": "text/x-python",
   "name": "python",
   "nbconvert_exporter": "python",
   "pygments_lexer": "ipython3",
   "version": "3.7.3"
  }
 },
 "nbformat": 4,
 "nbformat_minor": 0
}
