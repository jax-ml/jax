{
 "cells": [
  {
   "cell_type": "markdown",
   "metadata": {
    "id": "LqiaKasFjH82"
   },
   "source": [
    "# Custom derivative rules\n",
    "\n",
    "<!--* freshness: { reviewed: '2024-04-08' } *-->\n",
    "\n",
    "[![Open in Colab](https://colab.research.google.com/assets/colab-badge.svg)](https://colab.research.google.com/github/jax-ml/jax/blob/main/docs/notebooks/Custom_derivative_rules_for_Python_code.ipynb) [![Open in Kaggle](https://kaggle.com/static/images/open-in-kaggle.svg)](https://kaggle.com/kernels/welcome?src=https://github.com/jax-ml/jax/blob/main/docs/notebooks/Custom_derivative_rules_for_Python_code.ipynb)\n",
    "\n",
    "There are two ways to define differentiation rules in JAX:\n",
    "\n",
    "1. using `jax.custom_jvp` and `jax.custom_vjp` to define custom differentiation rules for Python functions that are already JAX-transformable; and\n",
    "2. defining new `core.Primitive` instances along with all their transformation rules, for example to call into functions from other systems like solvers, simulators, or general numerical computing systems.\n",
    "\n",
    "This notebook is about #1. To read instead about #2, see the [notebook on adding primitives](https://jax.readthedocs.io/en/latest/notebooks/How_JAX_primitives_work.html).\n",
    "\n",
    "For an introduction to JAX's automatic differentiation API, see [The Autodiff Cookbook](https://jax.readthedocs.io/en/latest/notebooks/autodiff_cookbook.html). This notebook assumes some familiarity with [jax.jvp](https://jax.readthedocs.io/en/latest/jax.html#jax.jvp) and [jax.grad](https://jax.readthedocs.io/en/latest/jax.html#jax.grad), and the mathematical meaning of JVPs and VJPs."
   ]
  },
  {
   "cell_type": "markdown",
   "metadata": {
    "id": "9Fg3NFNY-2RY"
   },
   "source": [
    "## Summary"
   ]
  },
  {
   "cell_type": "markdown",
   "metadata": {
    "id": "ZgMNRtXyWIW8"
   },
   "source": [
    "### Custom JVPs with `jax.custom_jvp`"
   ]
  },
  {
   "cell_type": "code",
   "execution_count": 2,
   "metadata": {
    "id": "zXic8tr--1PK"
   },
   "outputs": [],
   "source": [
    "import jax.numpy as jnp\n",
    "from jax import custom_jvp\n",
    "\n",
    "@custom_jvp\n",
    "def f(x, y):\n",
    "  return jnp.sin(x) * y\n",
    "\n",
    "@f.defjvp\n",
    "def f_jvp(primals, tangents):\n",
    "  x, y = primals\n",
    "  x_dot, y_dot = tangents\n",
    "  primal_out = f(x, y)\n",
    "  tangent_out = jnp.cos(x) * x_dot * y + jnp.sin(x) * y_dot\n",
    "  return primal_out, tangent_out"
   ]
  },
  {
   "cell_type": "code",
   "execution_count": 3,
   "metadata": {
    "id": "RrNf588X_kJF",
    "outputId": "b962bafb-e8a3-4b0d-ddf4-202e088231c3"
   },
   "outputs": [
    {
     "name": "stdout",
     "output_type": "stream",
     "text": [
      "2.7278922\n",
      "2.7278922\n",
      "-1.2484405\n",
      "-1.2484405\n"
     ]
    }
   ],
   "source": [
    "from jax import jvp, grad\n",
    "\n",
    "print(f(2., 3.))\n",
    "y, y_dot = jvp(f, (2., 3.), (1., 0.))\n",
    "print(y)\n",
    "print(y_dot)\n",
    "print(grad(f)(2., 3.))"
   ]
  },
  {
   "cell_type": "code",
   "execution_count": 4,
   "metadata": {
    "id": "1kHd3cKOWQgB"
   },
   "outputs": [],
   "source": [
    "# Equivalent alternative using the defjvps convenience wrapper\n",
    "\n",
    "@custom_jvp\n",
    "def f(x, y):\n",
    "  return jnp.sin(x) * y\n",
    "\n",
    "f.defjvps(lambda x_dot, primal_out, x, y: jnp.cos(x) * x_dot * y,\n",
    "          lambda y_dot, primal_out, x, y: jnp.sin(x) * y_dot)"
   ]
  },
  {
   "cell_type": "code",
   "execution_count": 5,
   "metadata": {
    "id": "Zn81cHeYWVOw",
    "outputId": "bf29b66c-897b-485e-c0a0-ee0fbd729a95"
   },
   "outputs": [
    {
     "name": "stdout",
     "output_type": "stream",
     "text": [
      "2.7278922\n",
      "2.7278922\n",
      "-1.2484405\n",
      "-1.2484405\n"
     ]
    }
   ],
   "source": [
    "print(f(2., 3.))\n",
    "y, y_dot = jvp(f, (2., 3.), (1., 0.))\n",
    "print(y)\n",
    "print(y_dot)\n",
    "print(grad(f)(2., 3.))"
   ]
  },
  {
   "cell_type": "markdown",
   "metadata": {
    "id": "N2DOGCREWXFj"
   },
   "source": [
    "### Custom VJPs with `jax.custom_vjp`"
   ]
  },
  {
   "cell_type": "code",
   "execution_count": 6,
   "metadata": {
    "id": "35ScHqhrBwPh"
   },
   "outputs": [],
   "source": [
    "from jax import custom_vjp\n",
    "\n",
    "@custom_vjp\n",
    "def f(x, y):\n",
    "  return jnp.sin(x) * y\n",
    "\n",
    "def f_fwd(x, y):\n",
    "  # Returns primal output and residuals to be used in backward pass by f_bwd.\n",
    "  return f(x, y), (jnp.cos(x), jnp.sin(x), y)\n",
    "\n",
    "def f_bwd(res, g):\n",
    "  cos_x, sin_x, y = res # Gets residuals computed in f_fwd\n",
    "  return (cos_x * g * y, sin_x * g)\n",
    "\n",
    "f.defvjp(f_fwd, f_bwd)"
   ]
  },
  {
   "cell_type": "code",
   "execution_count": 7,
   "metadata": {
    "id": "HpSozxKUCXgp",
    "outputId": "57277102-7bdb-41f0-c805-a27fcf9fb1ae"
   },
   "outputs": [
    {
     "name": "stdout",
     "output_type": "stream",
     "text": [
      "-1.2484405\n"
     ]
    }
   ],
   "source": [
    "print(grad(f)(2., 3.))"
   ]
  },
  {
   "cell_type": "markdown",
   "metadata": {
    "id": "p5ypWA7XlZpu"
   },
   "source": [
    "## Example problems\n",
    "\n",
    "To get an idea of what problems `jax.custom_jvp` and `jax.custom_vjp` are meant to solve, let's go over a few examples. A more thorough introduction to the `jax.custom_jvp` and `jax.custom_vjp` APIs is in the next section."
   ]
  },
  {
   "cell_type": "markdown",
   "metadata": {
    "id": "AR02eyd1GQhC"
   },
   "source": [
    "### Numerical stability\n",
    "\n",
    "One application of `jax.custom_jvp` is to improve the numerical stability of differentiation."
   ]
  },
  {
   "cell_type": "markdown",
   "metadata": {
    "id": "GksPXslaGPaW"
   },
   "source": [
    "Say we want to write a function called `log1pexp`, which computes $x \\mapsto \\log ( 1 + e^x )$. We can write that using `jax.numpy`:"
   ]
  },
  {
   "cell_type": "code",
   "execution_count": 8,
   "metadata": {
    "id": "6lWbTvs40ET-",
    "outputId": "8caff99e-add1-4c70-ace3-212c0c5c6f4e"
   },
   "outputs": [
    {
     "data": {
      "text/plain": [
       "Array(3.0485873, dtype=float32)"
      ]
     },
     "execution_count": 8,
     "metadata": {
      "tags": []
     },
     "output_type": "execute_result"
    }
   ],
   "source": [
    "\n",
    "def log1pexp(x):\n",
    "  return jnp.log(1. + jnp.exp(x))\n",
    "\n",
    "log1pexp(3.)"
   ]
  },
  {
   "cell_type": "markdown",
   "metadata": {
    "id": "PL36r_cD0oE8"
   },
   "source": [
    "Since it's written in terms of `jax.numpy`, it's JAX-transformable:"
   ]
  },
  {
   "cell_type": "code",
   "execution_count": 9,
   "metadata": {
    "id": "XgtGKFld02UD",
    "outputId": "809d399d-8eca-401e-b969-810e46648571"
   },
   "outputs": [
    {
     "name": "stdout",
     "output_type": "stream",
     "text": [
      "3.0485873\n",
      "0.95257413\n",
      "[0.5        0.7310586  0.88079715]\n"
     ]
    }
   ],
   "source": [
    "from jax import jit, grad, vmap\n",
    "\n",
    "print(jit(log1pexp)(3.))\n",
    "print(jit(grad(log1pexp))(3.))\n",
    "print(vmap(jit(grad(log1pexp)))(jnp.arange(3.)))"
   ]
  },
  {
   "cell_type": "markdown",
   "metadata": {
    "id": "o56Nr3V61PKS"
   },
   "source": [
    "But there's a numerical stability problem lurking here:"
   ]
  },
  {
   "cell_type": "code",
   "execution_count": 10,
   "metadata": {
    "id": "sVM6iwIO22sB",
    "outputId": "9c935ee8-f174-475a-ca01-fc80949199e5"
   },
   "outputs": [
    {
     "name": "stdout",
     "output_type": "stream",
     "text": [
      "nan\n"
     ]
    }
   ],
   "source": [
    "print(grad(log1pexp)(100.))"
   ]
  },
  {
   "cell_type": "markdown",
   "metadata": {
    "id": "Zu9sR2I73wuO"
   },
   "source": [
    "That doesn't seem right! After all, the derivative of $x \\mapsto \\log (1 + e^x)$ is $x \\mapsto \\frac{e^x}{1 + e^x}$, and so for large values of $x$ we'd expect the value to be about 1.\n",
    "\n",
    "We can get a bit more insight into what's going on by looking at the jaxpr for the gradient computation:"
   ]
  },
  {
   "cell_type": "code",
   "execution_count": 11,
   "metadata": {
    "id": "dO6uZlYR4TVp",
    "outputId": "61e06b1e-14cd-4030-f330-a949be185df8"
   },
   "outputs": [
    {
     "data": {
      "text/plain": [
       "{ lambda  ; a.\n",
       "  let b = exp a\n",
       "      c = add b 1.0\n",
       "      _ = log c\n",
       "      d = div 1.0 c\n",
       "      e = mul d b\n",
       "  in (e,) }"
      ]
     },
     "execution_count": 11,
     "metadata": {
      "tags": []
     },
     "output_type": "execute_result"
    }
   ],
   "source": [
    "from jax import make_jaxpr\n",
    "\n",
    "make_jaxpr(grad(log1pexp))(100.)"
   ]
  },
  {
   "cell_type": "markdown",
   "metadata": {
    "id": "52HR5EW26PEt"
   },
   "source": [
    "Stepping through how the jaxpr would be evaluated, we can see that the last line would involve multiplying values that floating point math will round to 0 and $\\infty$, respectively, which is never a good idea. That is, we're effectively evaluating `lambda x: (1 / (1 + jnp.exp(x))) * jnp.exp(x)` for large `x`, which effectively turns into `0. * jnp.inf`.\n",
    "\n",
    "Instead of generating such large and small values, hoping for a cancellation that floats can't always provide, we'd rather just express the derivative function as a more numerically stable program. In particular, we can write a program that more closely evaluates the equal mathematical expression $1 - \\frac{1}{1 + e^x}$, with no cancellation in sight.\n",
    "\n",
    "This problem is interesting because even though our definition of `log1pexp` could already be JAX-differentiated (and transformed with `jit`, `vmap`, ...), we're not happy with the result of applying standard autodiff rules to the primitives comprising `log1pexp` and composing the result. Instead, we'd like to specify how the whole function `log1pexp` should be differentiated, as a unit, and thus arrange those exponentials better.\n",
    "\n",
    "This is one application of custom derivative rules for Python functions that are already JAX transformable: specifying how a composite function should be differentiated, while still using its original Python definition for other transformations (like `jit`, `vmap`, ...).\n",
    "\n",
    "Here's a solution using `jax.custom_jvp`:"
   ]
  },
  {
   "cell_type": "code",
   "execution_count": 12,
   "metadata": {
    "id": "XQt6MAuTJewG"
   },
   "outputs": [],
   "source": [
    "from jax import custom_jvp\n",
    "\n",
    "@custom_jvp\n",
    "def log1pexp(x):\n",
    "  return jnp.log(1. + jnp.exp(x))\n",
    "\n",
    "@log1pexp.defjvp\n",
    "def log1pexp_jvp(primals, tangents):\n",
    "  x, = primals\n",
    "  x_dot, = tangents\n",
    "  ans = log1pexp(x)\n",
    "  ans_dot = (1 - 1/(1 + jnp.exp(x))) * x_dot\n",
    "  return ans, ans_dot"
   ]
  },
  {
   "cell_type": "code",
   "execution_count": 13,
   "metadata": {
    "id": "rhiMHulfKBIF",
    "outputId": "883bc4d2-3a1b-48d3-b205-c500f77d229c"
   },
   "outputs": [
    {
     "name": "stdout",
     "output_type": "stream",
     "text": [
      "1.0\n"
     ]
    }
   ],
   "source": [
    "print(grad(log1pexp)(100.))"
   ]
  },
  {
   "cell_type": "code",
   "execution_count": 14,
   "metadata": {
    "id": "9cLDuAo6KGUu",
    "outputId": "59984494-6124-4540-84fd-608ad4fc6bc6"
   },
   "outputs": [
    {
     "name": "stdout",
     "output_type": "stream",
     "text": [
      "3.0485873\n",
      "0.95257413\n",
      "[0.5       0.7310586 0.8807971]\n"
     ]
    }
   ],
   "source": [
    "print(jit(log1pexp)(3.))\n",
    "print(jit(grad(log1pexp))(3.))\n",
    "print(vmap(jit(grad(log1pexp)))(jnp.arange(3.)))"
   ]
  },
  {
   "cell_type": "markdown",
   "metadata": {
    "id": "9sVUGbGkUOqO"
   },
   "source": [
    "Here's a `defjvps` convenience wrapper to express the same thing:"
   ]
  },
  {
   "cell_type": "code",
   "execution_count": 15,
   "metadata": {
    "id": "xfQTp8F7USEM"
   },
   "outputs": [],
   "source": [
    "@custom_jvp\n",
    "def log1pexp(x):\n",
    "  return jnp.log(1. + jnp.exp(x))\n",
    "\n",
    "log1pexp.defjvps(lambda t, ans, x: (1 - 1/(1 + jnp.exp(x))) * t)"
   ]
  },
  {
   "cell_type": "code",
   "execution_count": 16,
   "metadata": {
    "id": "dtdh-PLaUsvw",
    "outputId": "aa36aec6-15af-4397-fc55-8b9fb7e607d8"
   },
   "outputs": [
    {
     "name": "stdout",
     "output_type": "stream",
     "text": [
      "1.0\n",
      "3.0485873\n",
      "0.95257413\n",
      "[0.5       0.7310586 0.8807971]\n"
     ]
    }
   ],
   "source": [
    "print(grad(log1pexp)(100.))\n",
    "print(jit(log1pexp)(3.))\n",
    "print(jit(grad(log1pexp))(3.))\n",
    "print(vmap(jit(grad(log1pexp)))(jnp.arange(3.)))"
   ]
  },
  {
   "cell_type": "markdown",
   "metadata": {
    "id": "V9tHAfrSF1N-"
   },
   "source": [
    "### Enforcing a differentiation convention\n",
    "\n",
    "A related application is to enforce a differentiation convention, perhaps at a boundary."
   ]
  },
  {
   "cell_type": "markdown",
   "metadata": {
    "id": "l_6tdb-QGK-H"
   },
   "source": [
    "Consider the function $f : \\mathbb{R}_+ \\to \\mathbb{R}_+$ with $f(x) = \\frac{x}{1 + \\sqrt{x}}$, where we take $\\mathbb{R}_+ = [0, \\infty)$. We might implement $f$ as a program like this:"
   ]
  },
  {
   "cell_type": "code",
   "execution_count": 17,
   "metadata": {
    "id": "AfF5P7x_GaSe"
   },
   "outputs": [],
   "source": [
    "def f(x):\n",
    "  return x / (1 + jnp.sqrt(x))"
   ]
  },
  {
   "cell_type": "markdown",
   "metadata": {
    "id": "BVcEkF3ZGgv1"
   },
   "source": [
    "As a mathematical function on $\\mathbb{R}$ (the full real line), $f$ is not differentiable at zero (because the limit defining the derivative doesn't exist from the left). Correspondingly, autodiff produces a `nan` value:"
   ]
  },
  {
   "cell_type": "code",
   "execution_count": 18,
   "metadata": {
    "id": "piI0u5MiHhQh",
    "outputId": "c045308f-2f3b-4c22-ebb2-b9ee582b4d25"
   },
   "outputs": [
    {
     "name": "stdout",
     "output_type": "stream",
     "text": [
      "nan\n"
     ]
    }
   ],
   "source": [
    "print(grad(f)(0.))"
   ]
  },
  {
   "cell_type": "markdown",
   "metadata": {
    "id": "IP0H2b7ZHkzD"
   },
   "source": [
    "But mathematically if we think of $f$ as a function on $\\mathbb{R}_+$ then it is differentiable at 0 [Rudin's Principles of Mathematical Analysis Definition 5.1, or Tao's Analysis I 3rd ed. Definition 10.1.1 and Example 10.1.6]. Alternatively, we might say as a convention we want to consider the directional derivative from the right. So there is a sensible value for the Python function `grad(f)` to return at `0.0`, namely `1.0`. By default, JAX's machinery for differentiation assumes all functions are defined over $\\mathbb{R}$ and thus doesn't produce `1.0` here.\n",
    "\n",
    "We can use a custom JVP rule! In particular, we can define the JVP rule in terms of the derivative function $x \\mapsto \\frac{\\sqrt{x} + 2}{2(\\sqrt{x} + 1)^2}$ on $\\mathbb{R}_+$,"
   ]
  },
  {
   "cell_type": "code",
   "execution_count": 19,
   "metadata": {
    "id": "ksHmCkcSKQJr"
   },
   "outputs": [],
   "source": [
    "@custom_jvp\n",
    "def f(x):\n",
    "  return x / (1 + jnp.sqrt(x))\n",
    "\n",
    "@f.defjvp\n",
    "def f_jvp(primals, tangents):\n",
    "  x, = primals\n",
    "  x_dot, = tangents\n",
    "  ans = f(x)\n",
    "  ans_dot = ((jnp.sqrt(x) + 2) / (2 * (jnp.sqrt(x) + 1)**2)) * x_dot\n",
    "  return ans, ans_dot"
   ]
  },
  {
   "cell_type": "code",
   "execution_count": 20,
   "metadata": {
    "id": "Gsh9ZvMTKi1O",
    "outputId": "a3076175-6542-4210-ce4a-d0d82e0051c6"
   },
   "outputs": [
    {
     "name": "stdout",
     "output_type": "stream",
     "text": [
      "1.0\n"
     ]
    }
   ],
   "source": [
    "print(grad(f)(0.))"
   ]
  },
  {
   "cell_type": "markdown",
   "metadata": {
    "id": "Usbp_gxaVVea"
   },
   "source": [
    "Here's the convenience wrapper version:"
   ]
  },
  {
   "cell_type": "code",
   "execution_count": 21,
   "metadata": {
    "id": "qXnrxIfaVYCs"
   },
   "outputs": [],
   "source": [
    "@custom_jvp\n",
    "def f(x):\n",
    "  return x / (1 + jnp.sqrt(x))\n",
    "\n",
    "f.defjvps(lambda t, ans, x: ((jnp.sqrt(x) + 2) / (2 * (jnp.sqrt(x) + 1)**2)) * t)"
   ]
  },
  {
   "cell_type": "code",
   "execution_count": 22,
   "metadata": {
    "id": "uUU5qRmEViK1",
    "outputId": "ea7dc2c4-a100-48f4-a74a-859070daf994"
   },
   "outputs": [
    {
     "name": "stdout",
     "output_type": "stream",
     "text": [
      "1.0\n"
     ]
    }
   ],
   "source": [
    "print(grad(f)(0.))"
   ]
  },
  {
   "cell_type": "markdown",
   "metadata": {
    "id": "7J2A85wbSAmF"
   },
   "source": [
    "### Gradient clipping\n",
    "\n",
    "While in some cases we want to express a mathematical differentiation computation, in other cases we may even want to take a step away from mathematics to adjust the computation autodiff performs. One canonical example is reverse-mode gradient clipping.\n",
    "\n",
    "For gradient clipping, we can use `jnp.clip` together with a `jax.custom_vjp` reverse-mode-only rule:"
   ]
  },
  {
   "cell_type": "code",
   "execution_count": 23,
   "metadata": {
    "id": "8jfjSanIW_tJ"
   },
   "outputs": [],
   "source": [
    "from functools import partial\n",
    "from jax import custom_vjp\n",
    "\n",
    "@custom_vjp\n",
    "def clip_gradient(lo, hi, x):\n",
    "  return x  # identity function\n",
    "\n",
    "def clip_gradient_fwd(lo, hi, x):\n",
    "  return x, (lo, hi)  # save bounds as residuals\n",
    "\n",
    "def clip_gradient_bwd(res, g):\n",
    "  lo, hi = res\n",
    "  return (None, None, jnp.clip(g, lo, hi))  # use None to indicate zero cotangents for lo and hi\n",
    "\n",
    "clip_gradient.defvjp(clip_gradient_fwd, clip_gradient_bwd)"
   ]
  },
  {
   "cell_type": "code",
   "execution_count": 24,
   "metadata": {
    "id": "4OLU_vf8Xw2J",
    "outputId": "5a51ff2c-79c2-41ba-eead-53679b4eddbc"
   },
   "outputs": [
    {
     "data": {
      "text/plain": [
       "[<matplotlib.lines.Line2D at 0x7efe2c206b70>]"
      ]
     },
     "execution_count": 24,
     "metadata": {
      "tags": []
     },
     "output_type": "execute_result"
    },
    {
     "data": {
      "image/png": "[encoded data removed]",
      "text/plain": [
       "<Figure size 432x288 with 1 Axes>"
      ]
     },
     "metadata": {
      "needs_background": "light",
      "tags": []
     },
     "output_type": "display_data"
    }
   ],
   "source": [
    "import matplotlib.pyplot as plt\n",
    "from jax import vmap\n",
    "\n",
    "t = jnp.linspace(0, 10, 1000)\n",
    "\n",
    "plt.plot(jnp.sin(t))\n",
    "plt.plot(vmap(grad(jnp.sin))(t))"
   ]
  },
  {
   "cell_type": "code",
   "execution_count": 25,
   "metadata": {
    "id": "iS8nRuBZYLcD",
    "outputId": "299dc977-ff2f-43a4-c0d2-9fa6c7eaeeb2"
   },
   "outputs": [
    {
     "data": {
      "text/plain": [
       "[<matplotlib.lines.Line2D at 0x7efe2c233cf8>]"
      ]
     },
     "execution_count": 25,
     "metadata": {
      "tags": []
     },
     "output_type": "execute_result"
    },
    {
     "data": {
      "image/png": "[encoded data removed]",
      "text/plain": [
       "<Figure size 432x288 with 1 Axes>"
      ]
     },
     "metadata": {
      "needs_background": "light",
      "tags": []
     },
     "output_type": "display_data"
    }
   ],
   "source": [
    "def clip_sin(x):\n",
    "  x = clip_gradient(-0.75, 0.75, x)\n",
    "  return jnp.sin(x)\n",
    "\n",
    "plt.plot(clip_sin(t))\n",
    "plt.plot(vmap(grad(clip_sin))(t))"
   ]
  },
  {
   "cell_type": "markdown",
   "metadata": {
    "id": "CICQuI86WK4_"
   },
   "source": [
    "### Python debugging\n",
    "\n",
    "Another application that is motivated by development workflow rather than numerics is to set a `pdb` debugger trace in the backward pass of reverse-mode autodiff."
   ]
  },
  {
   "cell_type": "markdown",
   "metadata": {
    "id": "cgxMjNTrGjJn"
   },
   "source": [
    "When trying to track down the source of a `nan` runtime error, or just examine carefully the cotangent (gradient) values being propagated, it can be useful to insert a debugger at a point in the backward pass that corresponds to a specific point in the primal computation. You can do that with `jax.custom_vjp`.\n",
    "\n",
    "We'll defer an example until the next section."
   ]
  },
  {
   "cell_type": "markdown",
   "metadata": {
    "id": "IC7tEcr1-Fc5"
   },
   "source": [
    "### Implicit function differentiation of iterative implementations\n",
    "\n",
    "This example gets pretty deep in the mathematical weeds!"
   ]
  },
  {
   "cell_type": "markdown",
   "metadata": {
    "id": "szAt97t80hew"
   },
   "source": [
    "Another application for `jax.custom_vjp` is reverse-mode differentiation of functions that are JAX-transformable (by `jit`, `vmap`, ...) but not efficiently JAX-differentiable for some reason, perhaps because they involve `lax.while_loop`. (It's not possible to produce an XLA HLO program that efficiently computes the reverse-mode derivative of an XLA HLO While loop because that would require a program with unbounded memory use, which isn't possible to express in XLA HLO, at least without side-effecting interactions through infeed/outfeed.)\n",
    "\n",
    "For example, consider this `fixed_point` routine which computes a fixed point by iteratively applying a function in a `while_loop`:"
   ]
  },
  {
   "cell_type": "code",
   "execution_count": 26,
   "metadata": {
    "id": "2uA8X2izXH2b"
   },
   "outputs": [],
   "source": [
    "from jax.lax import while_loop\n",
    "\n",
    "def fixed_point(f, a, x_guess):\n",
    "  def cond_fun(carry):\n",
    "    x_prev, x = carry\n",
    "    return jnp.abs(x_prev - x) > 1e-6\n",
    "\n",
    "  def body_fun(carry):\n",
    "    _, x = carry\n",
    "    return x, f(a, x)\n",
    "\n",
    "  _, x_star = while_loop(cond_fun, body_fun, (x_guess, f(a, x_guess)))\n",
    "  return x_star"
   ]
  },
  {
   "cell_type": "markdown",
   "metadata": {
    "id": "p2xFQAte19sF"
   },
   "source": [
    "This is an iterative procedure for numerically solving the equation $x = f(a, x)$ for $x$, by iterating $x_{t+1} = f(a, x_t)$ until $x_{t+1}$ is sufficiently close to $x_t$. The result $x^*$ depends on the parameters $a$, and so we can think of there being a function $a \\mapsto x^*(a)$ that is implicitly defined by equation $x = f(a, x)$.\n",
    "\n",
    "We can use `fixed_point` to run iterative procedures to convergence, for example running Newton's method to calculate square roots while only executing adds, multiplies, and divides:"
   ]
  },
  {
   "cell_type": "code",
   "execution_count": 27,
   "metadata": {
    "id": "rDDwM8bYYzRT"
   },
   "outputs": [],
   "source": [
    "def newton_sqrt(a):\n",
    "  update = lambda a, x: 0.5 * (x + a / x)\n",
    "  return fixed_point(update, a, a)"
   ]
  },
  {
   "cell_type": "code",
   "execution_count": 28,
   "metadata": {
    "id": "42Ydd7_6aLXU",
    "outputId": "c576dc92-33df-42b9-b2e8-ad54119514b1"
   },
   "outputs": [
    {
     "name": "stdout",
     "output_type": "stream",
     "text": [
      "1.4142135\n"
     ]
    }
   ],
   "source": [
    "print(newton_sqrt(2.))"
   ]
  },
  {
   "cell_type": "markdown",
   "metadata": {
    "id": "-yFtYWH13QWm"
   },
   "source": [
    "We can `vmap` or `jit` the function as well:"
   ]
  },
  {
   "cell_type": "code",
   "execution_count": 29,
   "metadata": {
    "id": "t_YSXieT3Yyk",
    "outputId": "76483e18-81f3-47a8-e8aa-e81535c01fe2"
   },
   "outputs": [
    {
     "name": "stdout",
     "output_type": "stream",
     "text": [
      "[1.        1.4142135 1.7320508 2.       ]\n"
     ]
    }
   ],
   "source": [
    "print(jit(vmap(newton_sqrt))(jnp.array([1., 2., 3., 4.])))"
   ]
  },
  {
   "cell_type": "markdown",
   "metadata": {
    "id": "emwWIt3d3h1T"
   },
   "source": [
    "We can't apply reverse-mode automatic differentiation because of the `while_loop`, but it turns out we wouldn't want to anyway: instead of differentiating through the implementation of `fixed_point` and all its iterations, we can exploit the mathematical structure to do something that is much more memory-efficient (and FLOP-efficient in this case, too!). We can instead use the implicit function theorem [Prop A.25 of Bertsekas's Nonlinear Programming, 2nd ed.], which guarantees (under some conditions) the existence of the mathematical objects we're about to use. In essence, we linearize at the solution and solve those linear equations iteratively to compute the derivatives we want.\n",
    "\n",
    "Consider again the equation $x = f(a, x)$ and the function $x^*$. We want to evaluate vector-Jacobian products like $v^\\mathsf{T} \\mapsto v^\\mathsf{T} \\partial x^*(a_0)$.\n",
    "\n",
    "At least in an open neighborhood around the point $a_0$ at which we want to differentiate, let's assume that the equation $x^*(a) = f(a, x^*(a))$ holds for all $a$. Since the two sides are equal as functions of $a$, their derivatives must be equal as well, so let's differentiate both sides:\n",
    "\n",
    "$\\qquad \\partial x^*(a) = \\partial_0 f(a, x^*(a)) + \\partial_1 f(a, x^*(a))  \\partial x^*(a)$.\n",
    "\n",
    "Setting $A = \\partial_1 f(a_0, x^*(a_0))$ and $B = \\partial_0 f(a_0, x^*(a_0))$, we can write the quantity we're after more simply as\n",
    "\n",
    "$\\qquad \\partial x^*(a_0) = B + A \\partial x^*(a_0)$,\n",
    "\n",
    "or, by rearranging,\n",
    "\n",
    "$\\qquad \\partial x^*(a_0) = (I - A)^{-1} B$.\n",
    "\n",
    "That means we can evaluate vector-Jacobian products like\n",
    "\n",
    "$\\qquad v^\\mathsf{T} \\partial x^*(a_0) = v^\\mathsf{T} (I - A)^{-1} B = w^\\mathsf{T} B$,\n",
    "\n",
    "where $w^\\mathsf{T} = v^\\mathsf{T} (I - A)^{-1}$, or equivalently $w^\\mathsf{T} = v^\\mathsf{T} + w^\\mathsf{T} A$, or equivalently $w^\\mathsf{T}$ is the fixed point of the map $u^\\mathsf{T} \\mapsto v^\\mathsf{T} + u^\\mathsf{T} A$. That last characterization gives us a way to write the VJP for `fixed_point` in terms of a call to `fixed_point`! Moreover, after expanding $A$ and $B$ back out, we can see we need only to evaluate VJPs of $f$ at $(a_0, x^*(a_0))$.\n",
    "\n",
    "Here's the upshot:"
   ]
  },
  {
   "cell_type": "code",
   "execution_count": 30,
   "metadata": {
    "id": "g4jo-xlvdiym"
   },
   "outputs": [],
   "source": [
    "from jax import vjp\n",
    "\n",
    "@partial(custom_vjp, nondiff_argnums=(0,))\n",
    "def fixed_point(f, a, x_guess):\n",
    "  def cond_fun(carry):\n",
    "    x_prev, x = carry\n",
    "    return jnp.abs(x_prev - x) > 1e-6\n",
    "\n",
    "  def body_fun(carry):\n",
    "    _, x = carry\n",
    "    return x, f(a, x)\n",
    "\n",
    "  _, x_star = while_loop(cond_fun, body_fun, (x_guess, f(a, x_guess)))\n",
    "  return x_star\n",
    "\n",
    "def fixed_point_fwd(f, a, x_init):\n",
    "  x_star = fixed_point(f, a, x_init)\n",
    "  return x_star, (a, x_star)\n",
    "\n",
    "def fixed_point_rev(f, res, x_star_bar):\n",
    "  a, x_star = res\n",
    "  _, vjp_a = vjp(lambda a: f(a, x_star), a)\n",
    "  a_bar, = vjp_a(fixed_point(partial(rev_iter, f),\n",
    "                             (a, x_star, x_star_bar),\n",
    "                             x_star_bar))\n",
    "  return a_bar, jnp.zeros_like(x_star)\n",
    "\n",
    "def rev_iter(f, packed, u):\n",
    "  a, x_star, x_star_bar = packed\n",
    "  _, vjp_x = vjp(lambda x: f(a, x), x_star)\n",
    "  return x_star_bar + vjp_x(u)[0]\n",
    "\n",
    "fixed_point.defvjp(fixed_point_fwd, fixed_point_rev)"
   ]
  },
  {
   "cell_type": "code",
   "execution_count": 31,
   "metadata": {
    "id": "iKzfT6d_mEoB",
    "outputId": "5d04c4a0-61dd-42de-ffa4-101b71d15a57"
   },
   "outputs": [
    {
     "name": "stdout",
     "output_type": "stream",
     "text": [
      "1.4142135\n"
     ]
    }
   ],
   "source": [
    "print(newton_sqrt(2.))"
   ]
  },
  {
   "cell_type": "code",
   "execution_count": 32,
   "metadata": {
    "id": "Hmcpjr6gmtkO",
    "outputId": "9c4a406c-0144-4d5f-e789-a7a4c850a3cc"
   },
   "outputs": [
    {
     "name": "stdout",
     "output_type": "stream",
     "text": [
      "0.35355335\n",
      "-0.088388346\n"
     ]
    }
   ],
   "source": [
    "print(grad(newton_sqrt)(2.))\n",
    "print(grad(grad(newton_sqrt))(2.))"
   ]
  },
  {
   "cell_type": "markdown",
   "metadata": {
    "id": "DvVmlaPD7W-4"
   },
   "source": [
    "We can check our answers by differentiating `jnp.sqrt`, which uses a totally different implementation:"
   ]
  },
  {
   "cell_type": "code",
   "execution_count": 33,
   "metadata": {
    "id": "jj_JnI9Pm4jg",
    "outputId": "6eb3e158-209b-41f2-865c-376a1d07624b"
   },
   "outputs": [
    {
     "name": "stdout",
     "output_type": "stream",
     "text": [
      "0.35355338\n",
      "-0.08838835\n"
     ]
    }
   ],
   "source": [
    "print(grad(jnp.sqrt)(2.))\n",
    "print(grad(grad(jnp.sqrt))(2.))"
   ]
  },
  {
   "cell_type": "markdown",
   "metadata": {
    "id": "HowvqayEuy-H"
   },
   "source": [
    "A limitation to this approach is that the argument `f` can't close over any values involved in differentiation. That is, you might notice that we kept the parameter `a` explicit in the argument list of `fixed_point`. For this use case, consider using the low-level primitive `lax.custom_root`, which allows for deriviatives in closed-over variables with custom root-finding functions."
   ]
  },
  {
   "cell_type": "markdown",
   "metadata": {
    "id": "Dr0aNkBslfQf"
   },
   "source": [
    "## Basic usage of `jax.custom_jvp` and `jax.custom_vjp` APIs"
   ]
  },
  {
   "cell_type": "markdown",
   "metadata": {
    "id": "MojTOg4tmQNT"
   },
   "source": [
    "### Use `jax.custom_jvp` to define forward-mode (and, indirectly, reverse-mode) rules\n",
    "\n",
    "Here's a canonical basic example of using `jax.custom_jvp`, where the comments use\n",
    "[Haskell-like type signatures](https://wiki.haskell.org/Type_signature):"
   ]
  },
  {
   "cell_type": "code",
   "execution_count": 34,
   "metadata": {
    "id": "nVkhbIFAOGZk"
   },
   "outputs": [],
   "source": [
    "from jax import custom_jvp\n",
    "import jax.numpy as jnp\n",
    "\n",
    "# f :: a -> b\n",
    "@custom_jvp\n",
    "def f(x):\n",
    "  return jnp.sin(x)\n",
    "\n",
    "# f_jvp :: (a, T a) -> (b, T b)\n",
    "def f_jvp(primals, tangents):\n",
    "  x, = primals\n",
    "  t, = tangents\n",
    "  return f(x), jnp.cos(x) * t\n",
    "\n",
    "f.defjvp(f_jvp)"
   ]
  },
  {
   "cell_type": "code",
   "execution_count": 35,
   "metadata": {
    "id": "fxhlECvW7Krj",
    "outputId": "30dc5e8b-d157-4ae2-cd17-145d4e1ba47b"
   },
   "outputs": [
    {
     "name": "stdout",
     "output_type": "stream",
     "text": [
      "0.14112\n",
      "0.14112\n",
      "-0.9899925\n"
     ]
    }
   ],
   "source": [
    "from jax import jvp\n",
    "\n",
    "print(f(3.))\n",
    "\n",
    "y, y_dot = jvp(f, (3.,), (1.,))\n",
    "print(y)\n",
    "print(y_dot)"
   ]
  },
  {
   "cell_type": "markdown",
   "metadata": {
    "id": "JaoQVRzSQ9Qd"
   },
   "source": [
    "In words, we start with a primal function `f` that takes inputs of type `a` and produces outputs of type `b`. We associate with it a JVP rule function `f_jvp` that takes a pair of inputs representing the primal inputs of type `a` and the corresponding tangent inputs of type `T a`, and produces a pair of outputs representing the primal outputs of type `b` and tangent outputs of type `T b`. The tangent outputs should be a linear function of the tangent inputs."
   ]
  },
  {
   "cell_type": "markdown",
   "metadata": {
    "id": "1xGky7yMOavq"
   },
   "source": [
    "You can also use `f.defjvp` as a decorator, as in\n",
    "\n",
    "```python\n",
    "@custom_jvp\n",
    "def f(x):\n",
    "  ...\n",
    "\n",
    "@f.defjvp\n",
    "def f_jvp(primals, tangents):\n",
    "  ...\n",
    "```"
   ]
  },
  {
   "cell_type": "markdown",
   "metadata": {
    "id": "e9R-ppvdQIOC"
   },
   "source": [
    "Even though we defined only a JVP rule and no VJP rule, we can use both forward- and reverse-mode differentiation on `f`. JAX will automatically transpose the linear computation on tangent values from our custom JVP rule, computing the VJP as efficiently as if we had written the rule by hand:"
   ]
  },
  {
   "cell_type": "code",
   "execution_count": 36,
   "metadata": {
    "id": "hl9Io86pQD6s",
    "outputId": "a9ef39aa-4df0-459f-ee1d-64b648cabcc4"
   },
   "outputs": [
    {
     "name": "stdout",
     "output_type": "stream",
     "text": [
      "-0.9899925\n",
      "-0.14112\n"
     ]
    }
   ],
   "source": [
    "from jax import grad\n",
    "\n",
    "print(grad(f)(3.))\n",
    "print(grad(grad(f))(3.))"
   ]
  },
  {
   "cell_type": "markdown",
   "metadata": {
    "id": "MRlKe5D90svj"
   },
   "source": [
    "For automatic transposition to work, the JVP rule's output tangents must be linear as a function of the input tangents. Otherwise a transposition error is raised."
   ]
  },
  {
   "cell_type": "markdown",
   "metadata": {
    "id": "GRu-0yg96lXE"
   },
   "source": [
    "Multiple arguments work like this:"
   ]
  },
  {
   "cell_type": "code",
   "execution_count": 37,
   "metadata": {
    "id": "JFLXlXuq6pRf"
   },
   "outputs": [],
   "source": [
    "@custom_jvp\n",
    "def f(x, y):\n",
    "  return x ** 2 * y\n",
    "\n",
    "@f.defjvp\n",
    "def f_jvp(primals, tangents):\n",
    "  x, y = primals\n",
    "  x_dot, y_dot = tangents\n",
    "  primal_out = f(x, y)\n",
    "  tangent_out = 2 * x * y * x_dot + x ** 2 * y_dot\n",
    "  return primal_out, tangent_out"
   ]
  },
  {
   "cell_type": "code",
   "execution_count": 38,
   "metadata": {
    "id": "QpKwA0oA8DfE",
    "outputId": "80855f56-04a5-4179-fd8b-199ea7eba476"
   },
   "outputs": [
    {
     "name": "stdout",
     "output_type": "stream",
     "text": [
      "12.0\n"
     ]
    }
   ],
   "source": [
    "print(grad(f)(2., 3.))"
   ]
  },
  {
   "cell_type": "markdown",
   "metadata": {
    "id": "YPsPS3rdaGo2"
   },
   "source": [
    "The `defjvps` convenience wrapper lets us define a JVP for each argument separately, and the results are computed separately then summed:"
   ]
  },
  {
   "cell_type": "code",
   "execution_count": 39,
   "metadata": {
    "id": "CsQIUhUkajua"
   },
   "outputs": [],
   "source": [
    "@custom_jvp\n",
    "def f(x):\n",
    "  return jnp.sin(x)\n",
    "\n",
    "f.defjvps(lambda t, ans, x: jnp.cos(x) * t)"
   ]
  },
  {
   "cell_type": "code",
   "execution_count": 40,
   "metadata": {
    "id": "zfSgXrPEap-i",
    "outputId": "bf552090-a60d-4c2a-fc91-603396df94cd"
   },
   "outputs": [
    {
     "name": "stdout",
     "output_type": "stream",
     "text": [
      "-0.9899925\n"
     ]
    }
   ],
   "source": [
    "print(grad(f)(3.))"
   ]
  },
  {
   "cell_type": "markdown",
   "metadata": {
    "id": "iYUCLJghbPiP"
   },
   "source": [
    "Here's a `defjvps` example with multiple arguments:"
   ]
  },
  {
   "cell_type": "code",
   "execution_count": 41,
   "metadata": {
    "id": "Vx4Jv9s9bCi1"
   },
   "outputs": [],
   "source": [
    "@custom_jvp\n",
    "def f(x, y):\n",
    "  return x ** 2 * y\n",
    "\n",
    "f.defjvps(lambda x_dot, primal_out, x, y: 2 * x * y * x_dot,\n",
    "          lambda y_dot, primal_out, x, y: x ** 2 * y_dot)"
   ]
  },
  {
   "cell_type": "code",
   "execution_count": 42,
   "metadata": {
    "id": "o9ezUYsjbbvC",
    "outputId": "f60f4941-d5e3-49c3-920f-76fd92414697"
   },
   "outputs": [
    {
     "name": "stdout",
     "output_type": "stream",
     "text": [
      "12.0\n",
      "12.0\n",
      "4.0\n"
     ]
    }
   ],
   "source": [
    "print(grad(f)(2., 3.))\n",
    "print(grad(f, 0)(2., 3.))  # same as above\n",
    "print(grad(f, 1)(2., 3.))"
   ]
  },
  {
   "cell_type": "markdown",
   "metadata": {
    "id": "nuIUkaxibVfD"
   },
   "source": [
    "As a shorthand, with `defjvps` you can pass a `None` value to indicate that the JVP for a particular argument is zero:"
   ]
  },
  {
   "cell_type": "code",
   "execution_count": 43,
   "metadata": {
    "id": "z4z3esdZbTzQ"
   },
   "outputs": [],
   "source": [
    "@custom_jvp\n",
    "def f(x, y):\n",
    "  return x ** 2 * y\n",
    "\n",
    "f.defjvps(lambda x_dot, primal_out, x, y: 2 * x * y * x_dot,\n",
    "          None)"
   ]
  },
  {
   "cell_type": "code",
   "execution_count": 44,
   "metadata": {
    "id": "jOtQfp-5btSo",
    "outputId": "b60aa797-4c1e-4421-826d-691ba418bc1d"
   },
   "outputs": [
    {
     "name": "stdout",
     "output_type": "stream",
     "text": [
      "12.0\n",
      "12.0\n",
      "0.0\n"
     ]
    }
   ],
   "source": [
    "print(grad(f)(2., 3.))\n",
    "print(grad(f, 0)(2., 3.))  # same as above\n",
    "print(grad(f, 1)(2., 3.))"
   ]
  },
  {
   "cell_type": "markdown",
   "metadata": {
    "id": "kZ0yc-Ihoezk"
   },
   "source": [
    "Calling a `jax.custom_jvp` function with keyword arguments, or writing a `jax.custom_jvp` function definition with default arguments, are both allowed so long as they can be unambiguously mapped to positional arguments based on the function signature retrieved by the standard library `inspect.signature` mechanism."
   ]
  },
  {
   "cell_type": "markdown",
   "metadata": {
    "id": "3FGwfT67PDs9"
   },
   "source": [
    "When you're not performing differentiation, the function `f` is called just as if it weren't decorated by `jax.custom_jvp`:"
   ]
  },
  {
   "cell_type": "code",
   "execution_count": 45,
   "metadata": {
    "id": "b-tB3xCHPRFt"
   },
   "outputs": [],
   "source": [
    "@custom_jvp\n",
    "def f(x):\n",
    "  print('called f!')  # a harmless side-effect\n",
    "  return jnp.sin(x)\n",
    "\n",
    "@f.defjvp\n",
    "def f_jvp(primals, tangents):\n",
    "  print('called f_jvp!')  # a harmless side-effect\n",
    "  x, = primals\n",
    "  t, = tangents\n",
    "  return f(x), jnp.cos(x) * t"
   ]
  },
  {
   "cell_type": "code",
   "execution_count": 46,
   "metadata": {
    "id": "xAlRea95PjA5",
    "outputId": "10b4db9e-3192-415e-ac1c-0dc57c7dc086"
   },
   "outputs": [
    {
     "name": "stdout",
     "output_type": "stream",
     "text": [
      "called f!\n",
      "0.14112\n"
     ]
    }
   ],
   "source": [
    "from jax import vmap, jit\n",
    "\n",
    "print(f(3.))"
   ]
  },
  {
   "cell_type": "code",
   "execution_count": 47,
   "metadata": {
    "id": "dyD2ow4NmpI-",
    "outputId": "1d66b67f-c1b4-4a9d-d6ed-12d88767842c"
   },
   "outputs": [
    {
     "name": "stdout",
     "output_type": "stream",
     "text": [
      "called f!\n",
      "[0.        0.841471  0.9092974]\n",
      "called f!\n",
      "0.14112\n"
     ]
    }
   ],
   "source": [
    "print(vmap(f)(jnp.arange(3.)))\n",
    "print(jit(f)(3.))"
   ]
  },
  {
   "cell_type": "markdown",
   "metadata": {
    "id": "EzB75KZ5Pz7m"
   },
   "source": [
    "The custom JVP rule is invoked during differentiation, whether forward or reverse:"
   ]
  },
  {
   "cell_type": "code",
   "execution_count": 48,
   "metadata": {
    "id": "hKF0xyAxPyLZ",
    "outputId": "214cc5a7-a992-41c8-aa01-8ea4b2b3b4d6"
   },
   "outputs": [
    {
     "name": "stdout",
     "output_type": "stream",
     "text": [
      "called f_jvp!\n",
      "called f!\n",
      "-0.9899925\n"
     ]
    }
   ],
   "source": [
    "y, y_dot = jvp(f, (3.,), (1.,))\n",
    "print(y_dot)"
   ]
  },
  {
   "cell_type": "code",
   "execution_count": 49,
   "metadata": {
    "id": "Z1KaEgA58MEG",
    "outputId": "86263d76-5a98-4d96-f5c2-9146bcf1b6fd"
   },
   "outputs": [
    {
     "name": "stdout",
     "output_type": "stream",
     "text": [
      "called f_jvp!\n",
      "called f!\n",
      "-0.9899925\n"
     ]
    }
   ],
   "source": [
    "print(grad(f)(3.))"
   ]
  },
  {
   "cell_type": "markdown",
   "metadata": {
    "id": "o8JFxk3lQhOs"
   },
   "source": [
    "Notice that `f_jvp` calls `f` to compute the primal outputs. In the context of higher-order differentiation, each application of a differentiation transform will use the custom JVP rule if and only if the rule calls the original `f` to compute the primal outputs. (This represents a kind of fundamental tradeoff, where we can't make use of intermediate values from the evaluation of `f` in our rule _and also_ have the rule apply in all orders of higher-order differentiation.)"
   ]
  },
  {
   "cell_type": "code",
   "execution_count": 50,
   "metadata": {
    "id": "B6PLJooTQgVp",
    "outputId": "0d7ac628-656e-4b67-d285-f810155b6b9c"
   },
   "outputs": [
    {
     "name": "stdout",
     "output_type": "stream",
     "text": [
      "called f_jvp!\n",
      "called f_jvp!\n",
      "called f!\n"
     ]
    },
    {
     "data": {
      "text/plain": [
       "Array(-0.14112, dtype=float32)"
      ]
     },
     "execution_count": 50,
     "metadata": {
      "tags": []
     },
     "output_type": "execute_result"
    }
   ],
   "source": [
    "grad(grad(f))(3.)"
   ]
  },
  {
   "cell_type": "markdown",
   "metadata": {
    "id": "XNxAmFSsaaro"
   },
   "source": [
    "You can use Python control flow with `jax.custom_jvp`:"
   ]
  },
  {
   "cell_type": "code",
   "execution_count": 51,
   "metadata": {
    "id": "kkXlSJL6adU2"
   },
   "outputs": [],
   "source": [
    "@custom_jvp\n",
    "def f(x):\n",
    "  if x > 0:\n",
    "    return jnp.sin(x)\n",
    "  else:\n",
    "    return jnp.cos(x)\n",
    "\n",
    "@f.defjvp\n",
    "def f_jvp(primals, tangents):\n",
    "  x, = primals\n",
    "  x_dot, = tangents\n",
    "  ans = f(x)\n",
    "  if x > 0:\n",
    "    return ans, 2 * x_dot\n",
    "  else:\n",
    "    return ans, 3 * x_dot"
   ]
  },
  {
   "cell_type": "code",
   "execution_count": 52,
   "metadata": {
    "id": "QCHmJ56Na2G3",
    "outputId": "1772d3b4-44ef-4745-edd3-553c6312c553"
   },
   "outputs": [
    {
     "name": "stdout",
     "output_type": "stream",
     "text": [
      "2.0\n",
      "3.0\n"
     ]
    }
   ],
   "source": [
    "print(grad(f)(1.))\n",
    "print(grad(f)(-1.))"
   ]
  },
  {
   "cell_type": "markdown",
   "metadata": {
    "id": "9cVdgR7ilt8l"
   },
   "source": [
    "### Use `jax.custom_vjp` to define custom reverse-mode-only rules\n",
    "\n",
    "While `jax.custom_jvp` suffices for controlling both forward- and, via JAX's automatic transposition, reverse-mode differentiation behavior, in some cases we may want to directly control a VJP rule, for example in the latter two example problems presented above. We can do that with `jax.custom_vjp`:"
   ]
  },
  {
   "cell_type": "code",
   "execution_count": 53,
   "metadata": {
    "id": "zAZk1n3dUw76"
   },
   "outputs": [],
   "source": [
    "from jax import custom_vjp\n",
    "import jax.numpy as jnp\n",
    "\n",
    "# f :: a -> b\n",
    "@custom_vjp\n",
    "def f(x):\n",
    "  return jnp.sin(x)\n",
    "\n",
    "# f_fwd :: a -> (b, c)\n",
    "def f_fwd(x):\n",
    "  return f(x), jnp.cos(x)\n",
    "\n",
    "# f_bwd :: (c, CT b) -> CT a\n",
    "def f_bwd(cos_x, y_bar):\n",
    "  return (cos_x * y_bar,)\n",
    "\n",
    "f.defvjp(f_fwd, f_bwd)"
   ]
  },
  {
   "cell_type": "code",
   "execution_count": 54,
   "metadata": {
    "id": "E8W-H2S0Ngdr",
    "outputId": "cd0dc221-e779-436d-f3b4-21e799f40620"
   },
   "outputs": [
    {
     "name": "stdout",
     "output_type": "stream",
     "text": [
      "0.14112\n",
      "-0.9899925\n"
     ]
    }
   ],
   "source": [
    "from jax import grad\n",
    "\n",
    "print(f(3.))\n",
    "print(grad(f)(3.))"
   ]
  },
  {
   "cell_type": "markdown",
   "metadata": {
    "id": "yLING7qEVGGN"
   },
   "source": [
    "In words, we again start with a primal function `f` that takes inputs of type `a` and produces outputs of type `b`. We associate with it two functions, `f_fwd` and `f_bwd`, which describe how to perform the forward- and backward-passes of reverse-mode autodiff, respectively.\n",
    "\n",
    "The function `f_fwd` describes the forward pass, not only the primal computation but also what values to save for use on the backward pass. Its input signature is just like that of the primal function `f`, in that it takes a primal input of type `a`. But as output it produces a pair, where the first element is the primal output `b` and the second element is any \"residual\" data of type `c` to be stored for use by the backward pass. (This second output is analogous to [PyTorch's save_for_backward mechanism](https://pytorch.org/tutorials/beginner/examples_autograd/two_layer_net_custom_function.html).)\n",
    "\n",
    "The function `f_bwd` describes the backward pass. It takes two inputs, where the first is the residual data of type `c` produced by `f_fwd` and the second is the output cotangents of type `CT b` corresponding to the output of the primal function. It produces an output of type `CT a` representing the cotangents corresponding to the input of the primal function. In particular, the output of `f_bwd` must be a sequence (e.g. a tuple) of length equal to the number of arguments to the primal function."
   ]
  },
  {
   "cell_type": "markdown",
   "metadata": {
    "id": "d1b5v67Oncfz"
   },
   "source": [
    "So multiple arguments work like this:"
   ]
  },
  {
   "cell_type": "code",
   "execution_count": 55,
   "metadata": {
    "id": "IhMb64gkngAt"
   },
   "outputs": [],
   "source": [
    "from jax import custom_vjp\n",
    "\n",
    "@custom_vjp\n",
    "def f(x, y):\n",
    "  return jnp.sin(x) * y\n",
    "\n",
    "def f_fwd(x, y):\n",
    "  return f(x, y), (jnp.cos(x), jnp.sin(x), y)\n",
    "\n",
    "def f_bwd(res, g):\n",
    "  cos_x, sin_x, y = res\n",
    "  return (cos_x * g * y, sin_x * g)\n",
    "\n",
    "f.defvjp(f_fwd, f_bwd)"
   ]
  },
  {
   "cell_type": "code",
   "execution_count": 56,
   "metadata": {
    "id": "EnRtIhhLnkry",
    "outputId": "e03907ec-463a-4f3c-ae8e-feecb4394b2b"
   },
   "outputs": [
    {
     "name": "stdout",
     "output_type": "stream",
     "text": [
      "-1.2484405\n"
     ]
    }
   ],
   "source": [
    "print(grad(f)(2., 3.))"
   ]
  },
  {
   "cell_type": "markdown",
   "metadata": {
    "id": "GwC26P9kn8qw"
   },
   "source": [
    "Calling a `jax.custom_vjp` function with keyword arguments, or writing a `jax.custom_vjp` function definition with default arguments, are both allowed so long as they can be unambiguously mapped to positional arguments based on the function signature retrieved by the standard library `inspect.signature` mechanism."
   ]
  },
  {
   "cell_type": "markdown",
   "metadata": {
    "id": "XfH-ae8bYt6-"
   },
   "source": [
    "As with `jax.custom_jvp`, the custom VJP rule comprised by `f_fwd` and `f_bwd` is not invoked if differentiation is not applied. If function is evaluated, or transformed with `jit`, `vmap`, or other non-differentiation transformations, then only `f` is called."
   ]
  },
  {
   "cell_type": "code",
   "execution_count": 57,
   "metadata": {
    "id": "s-_Dbqi-N5Ij"
   },
   "outputs": [],
   "source": [
    "@custom_vjp\n",
    "def f(x):\n",
    "  print(\"called f!\")\n",
    "  return jnp.sin(x)\n",
    "\n",
    "def f_fwd(x):\n",
    "  print(\"called f_fwd!\")\n",
    "  return f(x), jnp.cos(x)\n",
    "\n",
    "def f_bwd(cos_x, y_bar):\n",
    "  print(\"called f_bwd!\")\n",
    "  return (cos_x * y_bar,)\n",
    "\n",
    "f.defvjp(f_fwd, f_bwd)"
   ]
  },
  {
   "cell_type": "code",
   "execution_count": 58,
   "metadata": {
    "id": "r0aZ79OmOAR5",
    "outputId": "9cf16d9e-ca96-4987-e01a-dc0e22405576"
   },
   "outputs": [
    {
     "name": "stdout",
     "output_type": "stream",
     "text": [
      "called f!\n",
      "0.14112\n"
     ]
    }
   ],
   "source": [
    "print(f(3.))"
   ]
  },
  {
   "cell_type": "code",
   "execution_count": 59,
   "metadata": {
    "id": "7ToB9BYlm6uN",
    "outputId": "aa9f3e3f-e6c3-4ee4-b87a-4526074f43aa"
   },
   "outputs": [
    {
     "name": "stdout",
     "output_type": "stream",
     "text": [
      "called f_fwd!\n",
      "called f!\n",
      "called f_bwd!\n",
      "-0.9899925\n"
     ]
    }
   ],
   "source": [
    "print(grad(f)(3.))"
   ]
  },
  {
   "cell_type": "code",
   "execution_count": 60,
   "metadata": {
    "id": "s1Pn_qCIODcF",
    "outputId": "423d34e0-35b8-4b57-e89d-f70f20e28ea9"
   },
   "outputs": [
    {
     "name": "stdout",
     "output_type": "stream",
     "text": [
      "called f_fwd!\n",
      "called f!\n",
      "0.14112\n"
     ]
    }
   ],
   "source": [
    "\n",
    "y, f_vjp = vjp(f, 3.)\n",
    "print(y)"
   ]
  },
  {
   "cell_type": "code",
   "execution_count": 61,
   "metadata": {
    "id": "dvgQtDHaOHuo",
    "outputId": "d92649c5-0aab-49a9-9158-f7ddc5fccb9b"
   },
   "outputs": [
    {
     "name": "stdout",
     "output_type": "stream",
     "text": [
      "called f_bwd!\n",
      "(Array(-0.9899925, dtype=float32),)\n"
     ]
    }
   ],
   "source": [
    "print(f_vjp(1.))"
   ]
  },
  {
   "cell_type": "markdown",
   "metadata": {
    "id": "qFIIpkFcZCNP"
   },
   "source": [
    "**Forward-mode autodiff cannot be used on the** `jax.custom_vjp` **function** and will raise an error:"
   ]
  },
  {
   "cell_type": "code",
   "execution_count": 62,
   "metadata": {
    "id": "3RGQRbI_OSEX",
    "outputId": "6385a024-7a10-445a-8380-b2eef722e597"
   },
   "outputs": [
    {
     "name": "stdout",
     "output_type": "stream",
     "text": [
      "called f_fwd!\n",
      "called f!\n",
      "ERROR! can't apply forward-mode autodiff (jvp) to a custom_vjp function.\n"
     ]
    }
   ],
   "source": [
    "from jax import jvp\n",
    "\n",
    "try:\n",
    "  jvp(f, (3.,), (1.,))\n",
    "except TypeError as e:\n",
    "  print('ERROR! {}'.format(e))"
   ]
  },
  {
   "cell_type": "markdown",
   "metadata": {
    "id": "u04I9j2dntAU"
   },
   "source": [
    "If you want to use both forward- and reverse-mode, use `jax.custom_jvp` instead."
   ]
  },
  {
   "cell_type": "markdown",
   "metadata": {
    "id": "YN97y7LEZbWV"
   },
   "source": [
    "We can use `jax.custom_vjp` together with `pdb` to insert a debugger trace in the backward pass:"
   ]
  },
  {
   "cell_type": "code",
   "execution_count": 63,
   "metadata": {
    "id": "-DvRKsHPZk_g"
   },
   "outputs": [],
   "source": [
    "import pdb\n",
    "\n",
    "@custom_vjp\n",
    "def debug(x):\n",
    "  return x  # acts like identity\n",
    "\n",
    "def debug_fwd(x):\n",
    "  return x, x\n",
    "\n",
    "def debug_bwd(x, g):\n",
    "  pdb.set_trace()\n",
    "  return g\n",
    "\n",
    "debug.defvjp(debug_fwd, debug_bwd)"
   ]
  },
  {
   "cell_type": "code",
   "execution_count": 64,
   "metadata": {
    "id": "49GdkP4pZ2IV"
   },
   "outputs": [],
   "source": [
    "def foo(x):\n",
    "  y = x ** 2\n",
    "  y = debug(y)  # insert pdb in corresponding backward pass step\n",
    "  return jnp.sin(y)"
   ]
  },
  {
   "cell_type": "markdown",
   "metadata": {
    "id": "sGLnRcPwaKoX"
   },
   "source": [
    "```python\n",
    "jax.grad(foo)(3.)\n",
    "\n",
    "> <ipython-input-113-b19a2dc1abf7>(12)debug_bwd()\n",
    "-> return g\n",
    "(Pdb) p x\n",
    "Array(9., dtype=float32)\n",
    "(Pdb) p g\n",
    "Array(-0.91113025, dtype=float32)\n",
    "(Pdb) q\n",
    "```"
   ]
  },
  {
   "cell_type": "markdown",
   "metadata": {
    "id": "DaTfAJLAl1Lb"
   },
   "source": [
    "## More features and details"
   ]
  },
  {
   "cell_type": "markdown",
   "metadata": {
    "id": "LQF_UDApl_UV"
   },
   "source": [
    "### Working with `list` / `tuple` / `dict` containers (and other pytrees)\n",
    "\n",
    "You should expect standard Python containers like lists, tuples, namedtuples, and dicts to just work, along with nested versions of those. In general, any [pytrees](https://jax.readthedocs.io/en/latest/pytrees.html) are permissible, so long as their structures are consistent according to the type constraints. \n",
    "\n",
    "Here's a contrived example with `jax.custom_jvp`:"
   ]
  },
  {
   "cell_type": "code",
   "execution_count": 65,
   "metadata": {
    "id": "6sDLZ3dAn3P2"
   },
   "outputs": [],
   "source": [
    "from collections import namedtuple\n",
    "Point = namedtuple(\"Point\", [\"x\", \"y\"])\n",
    "\n",
    "@custom_jvp\n",
    "def f(pt):\n",
    "  x, y = pt.x, pt.y\n",
    "  return {'a': x ** 2,\n",
    "          'b': (jnp.sin(x), jnp.cos(y))}\n",
    "\n",
    "@f.defjvp\n",
    "def f_jvp(primals, tangents):\n",
    "  pt, = primals\n",
    "  pt_dot, =  tangents\n",
    "  ans = f(pt)\n",
    "  ans_dot = {'a': 2 * pt.x * pt_dot.x,\n",
    "             'b': (jnp.cos(pt.x) * pt_dot.x, -jnp.sin(pt.y) * pt_dot.y)}\n",
    "  return ans, ans_dot\n",
    "\n",
    "def fun(pt):\n",
    "  dct = f(pt)\n",
    "  return dct['a'] + dct['b'][0]"
   ]
  },
  {
   "cell_type": "code",
   "execution_count": 66,
   "metadata": {
    "id": "My8pbOlPppJj",
    "outputId": "04cc1129-d0fb-4018-bec1-2ccf8b7906e3"
   },
   "outputs": [
    {
     "name": "stdout",
     "output_type": "stream",
     "text": [
      "{'a': 1.0, 'b': (Array(0.841471, dtype=float32), Array(-0.4161468, dtype=float32))}\n"
     ]
    }
   ],
   "source": [
    "pt = Point(1., 2.)\n",
    "\n",
    "print(f(pt))"
   ]
  },
  {
   "cell_type": "code",
   "execution_count": 67,
   "metadata": {
    "id": "a9qyiCAhqLd3",
    "outputId": "08bd0615-7c35-44ff-f90b-c175618c2c40"
   },
   "outputs": [
    {
     "name": "stdout",
     "output_type": "stream",
     "text": [
      "Point(x=Array(2.5403023, dtype=float32), y=array(0., dtype=float32))\n"
     ]
    }
   ],
   "source": [
    "print(grad(fun)(pt))"
   ]
  },
  {
   "cell_type": "markdown",
   "metadata": {
    "id": "BWLN9tu4qWQd"
   },
   "source": [
    "And an analogous contrived example with `jax.custom_vjp`:"
   ]
  },
  {
   "cell_type": "code",
   "execution_count": 68,
   "metadata": {
    "id": "QkdbwGkJqS3J"
   },
   "outputs": [],
   "source": [
    "@custom_vjp\n",
    "def f(pt):\n",
    "  x, y = pt.x, pt.y\n",
    "  return {'a': x ** 2,\n",
    "          'b': (jnp.sin(x), jnp.cos(y))}\n",
    "\n",
    "def f_fwd(pt):\n",
    "  return f(pt), pt\n",
    "\n",
    "def f_bwd(pt, g):\n",
    "  a_bar, (b0_bar, b1_bar) = g['a'], g['b']\n",
    "  x_bar = 2 * pt.x * a_bar + jnp.cos(pt.x) * b0_bar\n",
    "  y_bar = -jnp.sin(pt.y) * b1_bar\n",
    "  return (Point(x_bar, y_bar),)\n",
    "\n",
    "f.defvjp(f_fwd, f_bwd)\n",
    "\n",
    "def fun(pt):\n",
    "  dct = f(pt)\n",
    "  return dct['a'] + dct['b'][0]"
   ]
  },
  {
   "cell_type": "code",
   "execution_count": 69,
   "metadata": {
    "id": "3onW7t6nrJ4E",
    "outputId": "ac455ab0-cac0-41fc-aea3-034931316053"
   },
   "outputs": [
    {
     "name": "stdout",
     "output_type": "stream",
     "text": [
      "{'a': 1.0, 'b': (Array(0.841471, dtype=float32), Array(-0.4161468, dtype=float32))}\n"
     ]
    }
   ],
   "source": [
    "pt = Point(1., 2.)\n",
    "\n",
    "print(f(pt))"
   ]
  },
  {
   "cell_type": "code",
   "execution_count": 70,
   "metadata": {
    "id": "ryyeKIXtrNpd",
    "outputId": "1780f738-ffd8-4ed7-ffbe-71d84bd62709"
   },
   "outputs": [
    {
     "name": "stdout",
     "output_type": "stream",
     "text": [
      "Point(x=Array(2.5403023, dtype=float32), y=Array(-0., dtype=float32))\n"
     ]
    }
   ],
   "source": [
    "print(grad(fun)(pt))"
   ]
  },
  {
   "cell_type": "markdown",
   "metadata": {
    "id": "JKTNivxbmKWO"
   },
   "source": [
    "### Handling  non-differentiable arguments"
   ]
  },
  {
   "cell_type": "markdown",
   "metadata": {
    "id": "7g9sXSp_uc36"
   },
   "source": [
    "Some use cases, like the final example problem, call for non-differentiable arguments like function-valued arguments to be passed to functions with custom differentiation rules, and for those arguments to also be passed to the rules themselves. In the case of `fixed_point`, the function argument `f` was such a non-differentiable argument. A similar situation arises with `jax.experimental.odeint`."
   ]
  },
  {
   "cell_type": "markdown",
   "metadata": {
    "id": "9yNIOzyBCvE5"
   },
   "source": [
    "#### `jax.custom_jvp` with `nondiff_argnums`\n",
    "\n",
    "Use the optional `nondiff_argnums` parameter to `jax.custom_jvp` to indicate arguments like these. Here's an example with `jax.custom_jvp`:"
   ]
  },
  {
   "cell_type": "code",
   "execution_count": 71,
   "metadata": {
    "id": "b3YMxxTBvy0I"
   },
   "outputs": [],
   "source": [
    "from functools import partial\n",
    "\n",
    "@partial(custom_jvp, nondiff_argnums=(0,))\n",
    "def app(f, x):\n",
    "  return f(x)\n",
    "\n",
    "@app.defjvp\n",
    "def app_jvp(f, primals, tangents):\n",
    "  x, = primals\n",
    "  x_dot, = tangents\n",
    "  return f(x), 2. * x_dot"
   ]
  },
  {
   "cell_type": "code",
   "execution_count": 72,
   "metadata": {
    "id": "5W-yEw9IB34S",
    "outputId": "a2c1444a-9cc7-43ee-cb52-6c5d1cec02f1"
   },
   "outputs": [
    {
     "name": "stdout",
     "output_type": "stream",
     "text": [
      "27.0\n"
     ]
    }
   ],
   "source": [
    "print(app(lambda x: x ** 3, 3.))"
   ]
  },
  {
   "cell_type": "code",
   "execution_count": 73,
   "metadata": {
    "id": "zbVIlOmqB7_O",
    "outputId": "a0174f54-89b0-4957-9362-c05af922f974"
   },
   "outputs": [
    {
     "name": "stdout",
     "output_type": "stream",
     "text": [
      "2.0\n"
     ]
    }
   ],
   "source": [
    "print(grad(app, 1)(lambda x: x ** 3, 3.))"
   ]
  },
  {
   "cell_type": "markdown",
   "metadata": {
    "id": "-b_B_4WaBI2D"
   },
   "source": [
    "Notice the gotcha here: no matter where in the argument list these parameters appear, they're placed at the *start* of the signature of the corresponding JVP rule. Here's another example:"
   ]
  },
  {
   "cell_type": "code",
   "execution_count": 74,
   "metadata": {
    "id": "9hokWmyHBgKK"
   },
   "outputs": [],
   "source": [
    "@partial(custom_jvp, nondiff_argnums=(0, 2))\n",
    "def app2(f, x, g):\n",
    "  return f(g((x)))\n",
    "\n",
    "@app2.defjvp\n",
    "def app2_jvp(f, g, primals, tangents):\n",
    "  x, = primals\n",
    "  x_dot, = tangents\n",
    "  return f(g(x)), 3. * x_dot"
   ]
  },
  {
   "cell_type": "code",
   "execution_count": 75,
   "metadata": {
    "id": "J7GsvJTgCfS0",
    "outputId": "43dd6a02-2e4e-449e-924a-d1a03fe622fe"
   },
   "outputs": [
    {
     "name": "stdout",
     "output_type": "stream",
     "text": [
      "3375.0\n"
     ]
    }
   ],
   "source": [
    "print(app2(lambda x: x ** 3, 3., lambda y: 5 * y))"
   ]
  },
  {
   "cell_type": "code",
   "execution_count": 76,
   "metadata": {
    "id": "kPP8Jt1CCb1X",
    "outputId": "6eff9aae-8d6e-4998-92ed-56272c32d6e8"
   },
   "outputs": [
    {
     "name": "stdout",
     "output_type": "stream",
     "text": [
      "3.0\n"
     ]
    }
   ],
   "source": [
    "print(grad(app2, 1)(lambda x: x ** 3, 3., lambda y: 5 * y))"
   ]
  },
  {
   "cell_type": "markdown",
   "metadata": {
    "id": "ECbalHIkC4ts"
   },
   "source": [
    "#### `jax.custom_vjp` with `nondiff_argnums`"
   ]
  },
  {
   "cell_type": "markdown",
   "metadata": {
    "id": "0u0jn4aWC8k1"
   },
   "source": [
    "A similar option exists for `jax.custom_vjp`, and, similarly, the convention is that the non-differentiable arguments are passed as the first arguments to the `_bwd` rule, no matter where they appear in the signature of the original function. The signature of the `_fwd` rule remains unchanged - it is the same as the signature of the primal function. Here's an example:"
   ]
  },
  {
   "cell_type": "code",
   "execution_count": 77,
   "metadata": {
    "id": "yCdu-_9GClWs"
   },
   "outputs": [],
   "source": [
    "@partial(custom_vjp, nondiff_argnums=(0,))\n",
    "def app(f, x):\n",
    "  return f(x)\n",
    "\n",
    "def app_fwd(f, x):\n",
    "  return f(x), x\n",
    "\n",
    "def app_bwd(f, x, g):\n",
    "  return (5 * g,)\n",
    "\n",
    "app.defvjp(app_fwd, app_bwd)"
   ]
  },
  {
   "cell_type": "code",
   "execution_count": 78,
   "metadata": {
    "id": "qSgcWa1eDj4r",
    "outputId": "43939686-f857-47ea-9f85-53f440ef12ee"
   },
   "outputs": [
    {
     "name": "stdout",
     "output_type": "stream",
     "text": [
      "16.0\n"
     ]
    }
   ],
   "source": [
    "print(app(lambda x: x ** 2, 4.))"
   ]
  },
  {
   "cell_type": "code",
   "execution_count": 79,
   "metadata": {
    "id": "tccagflcDmaz",
    "outputId": "c75ca70b-2431-493b-e335-4f4d340902f1"
   },
   "outputs": [
    {
     "name": "stdout",
     "output_type": "stream",
     "text": [
      "5.0\n"
     ]
    }
   ],
   "source": [
    "print(grad(app, 1)(lambda x: x ** 2, 4.))"
   ]
  },
  {
   "cell_type": "markdown",
   "metadata": {
    "id": "BTEnNTk5D0sM"
   },
   "source": [
    "See `fixed_point` above for another usage example.\n",
    "\n",
    "**You don't need to use** `nondiff_argnums` **with array-valued arguments**, for example ones with integer dtype. Instead, `nondiff_argnums` should only be used for argument values that don't correspond to JAX types (essentially don't correspond to array types), like Python callables or strings. If JAX detects that an argument indicated by `nondiff_argnums` contains a JAX Tracer, then an error is raised. The `clip_gradient` function above is a good example of not using `nondiff_argnums` for integer-dtype array arguments."
   ]
  }
 ],
 "metadata": {
  "accelerator": "GPU",
  "colab": {
   "collapsed_sections": [],
   "name": "Custom derivative rules for Python code.ipynb",
   "provenance": [],
   "toc_visible": true
  },
  "jupytext": {
   "formats": "ipynb,md:myst"
  },
  "kernelspec": {
   "display_name": "Python 3",
   "name": "python3"
  },
  "language_info": {
   "codemirror_mode": {
    "name": "ipython",
    "version": 3
   },
   "file_extension": ".py",
   "mimetype": "text/x-python",
   "name": "python",
   "nbconvert_exporter": "python",
   "pygments_lexer": "ipython3",
   "version": "3.7.6"
  }
 },
 "nbformat": 4,
 "nbformat_minor": 0
}
